{
 "cells": [
  {
   "cell_type": "markdown",
   "metadata": {},
   "source": [
    "## Make folds (test, train folds) : DAVIS\n",
    "\n"
   ]
  },
  {
   "cell_type": "code",
   "execution_count": 5,
   "metadata": {},
   "outputs": [],
   "source": [
    "alldata = list(range(30056))"
   ]
  },
  {
   "cell_type": "code",
   "execution_count": 10,
   "metadata": {},
   "outputs": [],
   "source": [
    "import random\n",
    "random.shuffle(alldata)"
   ]
  },
  {
   "cell_type": "code",
   "execution_count": 13,
   "metadata": {},
   "outputs": [
    {
     "data": {
      "text/plain": [
       "[1164, 15808, 8427, 26010, 1269]"
      ]
     },
     "execution_count": 13,
     "metadata": {},
     "output_type": "execute_result"
    }
   ],
   "source": [
    "alldata[0:5]"
   ]
  },
  {
   "cell_type": "code",
   "execution_count": 14,
   "metadata": {},
   "outputs": [],
   "source": [
    "suffledData = alldata "
   ]
  },
  {
   "cell_type": "code",
   "execution_count": 15,
   "metadata": {},
   "outputs": [
    {
     "data": {
      "text/plain": [
       "[1164, 15808, 8427, 26010, 1269]"
      ]
     },
     "execution_count": 15,
     "metadata": {},
     "output_type": "execute_result"
    }
   ],
   "source": [
    "suffledData[0:5]"
   ]
  },
  {
   "cell_type": "code",
   "execution_count": 44,
   "metadata": {},
   "outputs": [],
   "source": [
    "# seperate folds: train: 5009 * 5, test: 5011\n",
    "\n",
    "test = suffledData[0:5011]\n",
    "\n",
    "train = [suffledData[5011:(5011+5009*1)], \n",
    "         suffledData[(5011+5009*1):(5011+5009*2)], \n",
    "         suffledData[(5011+5009*2):(5011+5009*3)], \n",
    "         suffledData[(5011+5009*3):(5011+5009*4)], \n",
    "         suffledData[(5011+5009*4):(5011+5009*5)]]"
   ]
  },
  {
   "cell_type": "code",
   "execution_count": 50,
   "metadata": {},
   "outputs": [],
   "source": [
    "# save seperate folds \n",
    "import json\n",
    "\n",
    "with open('/data2/ailon/hjkim/classification/data/davis/folds/test_fold_setting1.txt', 'w') as f:\n",
    "    json.dump(test, f)\n",
    "    \n",
    "with open('/data2/ailon/hjkim/classification/data/davis/folds/train_fold_setting1.txt', 'w') as f:\n",
    "    json.dump(train, f)"
   ]
  },
  {
   "cell_type": "code",
   "execution_count": null,
   "metadata": {},
   "outputs": [],
   "source": [
    "# affinity \n",
    "# file: /data2/ailon/hjkim/classification/data/davis/Y_10"
   ]
  },
  {
   "cell_type": "markdown",
   "metadata": {},
   "source": [
    "### original data"
   ]
  },
  {
   "cell_type": "code",
   "execution_count": null,
   "metadata": {},
   "outputs": [],
   "source": [
    "import json \n",
    "test = json.load(open('/data2/ailon/hjkim/Davis_1112/data/davis/folds/test_fold_setting1.txt'))\n",
    "train = json.load(open('/data2/ailon/hjkim/Davis_1112/data/davis/folds/train_fold_setting1.txt'))"
   ]
  },
  {
   "cell_type": "code",
   "execution_count": 34,
   "metadata": {},
   "outputs": [],
   "source": [
    "import pickle \n",
    "affinity = pickle.load(open('/data2/ailon/hjkim/Davis_1112/data/davis/Y','rb'), encoding='latin1')"
   ]
  },
  {
   "cell_type": "code",
   "execution_count": 35,
   "metadata": {},
   "outputs": [
    {
     "data": {
      "text/plain": [
       "array([[4.3e+01, 1.0e+04, 1.0e+04, ..., 2.3e+02, 1.0e+04, 1.0e+04],\n",
       "       [1.0e+04, 1.0e+04, 1.0e+04, ..., 2.0e+03, 1.0e+04, 1.0e+04],\n",
       "       [1.0e+04, 7.5e+01, 1.9e+00, ..., 1.2e+02, 2.3e+00, 1.0e+04],\n",
       "       ...,\n",
       "       [1.0e+04, 1.3e+01, 7.7e+02, ..., 9.8e+02, 5.1e+03, 1.0e+04],\n",
       "       [6.3e+01, 6.3e+01, 6.9e+03, ..., 5.2e+00, 1.0e+04, 3.5e+03],\n",
       "       [1.0e+04, 1.0e+04, 1.0e+04, ..., 1.9e+03, 4.4e+03, 1.0e+04]])"
      ]
     },
     "execution_count": 35,
     "metadata": {},
     "output_type": "execute_result"
    }
   ],
   "source": [
    "affinity"
   ]
  }
 ],
 "metadata": {
  "kernelspec": {
   "display_name": "Python 3",
   "language": "python",
   "name": "python3"
  },
  "language_info": {
   "codemirror_mode": {
    "name": "ipython",
    "version": 3
   },
   "file_extension": ".py",
   "mimetype": "text/x-python",
   "name": "python",
   "nbconvert_exporter": "python",
   "pygments_lexer": "ipython3",
   "version": "3.6.12"
  }
 },
 "nbformat": 4,
 "nbformat_minor": 4
}
