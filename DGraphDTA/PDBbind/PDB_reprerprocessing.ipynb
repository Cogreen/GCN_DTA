{
 "cells": [
 {
   "cell_type": "markdown",
   "metadata": {},
   "source": [
    "## Remake Sample to crroect affinity (and take log value)"
   ]
  },
  {
   "cell_type": "code",
   "execution_count": 98,
   "metadata": {},
   "outputs": [
    {
     "data": {
      "text/html": [
       "<div>\n",
       "<style scoped>\n",
       "    .dataframe tbody tr th:only-of-type {\n",
       "        vertical-align: middle;\n",
       "    }\n",
       "\n",
       "    .dataframe tbody tr th {\n",
       "        vertical-align: top;\n",
       "    }\n",
       "\n",
       "    .dataframe thead th {\n",
       "        text-align: right;\n",
       "    }\n",
       "</style>\n",
       "<table border=\"1\" class=\"dataframe\">\n",
       "  <thead>\n",
       "    <tr style=\"text-align: right;\">\n",
       "      <th></th>\n",
       "      <th>Num</th>\n",
       "      <th>PDB_code</th>\n",
       "      <th>ligand</th>\n",
       "      <th>affinity_nM</th>\n",
       "    </tr>\n",
       "  </thead>\n",
       "  <tbody>\n",
       "    <tr>\n",
       "      <th>0</th>\n",
       "      <td>308</td>\n",
       "      <td>1dar</td>\n",
       "      <td>GDP</td>\n",
       "      <td>0.011000</td>\n",
       "    </tr>\n",
       "    <tr>\n",
       "      <th>1</th>\n",
       "      <td>14061</td>\n",
       "      <td>5etp</td>\n",
       "      <td>5RZ</td>\n",
       "      <td>0.000700</td>\n",
       "    </tr>\n",
       "    <tr>\n",
       "      <th>2</th>\n",
       "      <td>12943</td>\n",
       "      <td>5ct1</td>\n",
       "      <td>NHE</td>\n",
       "      <td>0.000030</td>\n",
       "    </tr>\n",
       "    <tr>\n",
       "      <th>3</th>\n",
       "      <td>12760</td>\n",
       "      <td>4urx</td>\n",
       "      <td>HXY</td>\n",
       "      <td>0.000001</td>\n",
       "    </tr>\n",
       "    <tr>\n",
       "      <th>4</th>\n",
       "      <td>4509</td>\n",
       "      <td>3bva</td>\n",
       "      <td>2NC</td>\n",
       "      <td>0.000300</td>\n",
       "    </tr>\n",
       "    <tr>\n",
       "      <th>...</th>\n",
       "      <td>...</td>\n",
       "      <td>...</td>\n",
       "      <td>...</td>\n",
       "      <td>...</td>\n",
       "    </tr>\n",
       "    <tr>\n",
       "      <th>95</th>\n",
       "      <td>16776</td>\n",
       "      <td>6epz</td>\n",
       "      <td>MLB</td>\n",
       "      <td>0.000072</td>\n",
       "    </tr>\n",
       "    <tr>\n",
       "      <th>96</th>\n",
       "      <td>6396</td>\n",
       "      <td>3p2e</td>\n",
       "      <td>SAH</td>\n",
       "      <td>0.000600</td>\n",
       "    </tr>\n",
       "    <tr>\n",
       "      <th>97</th>\n",
       "      <td>17022</td>\n",
       "      <td>6fba</td>\n",
       "      <td>D48</td>\n",
       "      <td>0.019900</td>\n",
       "    </tr>\n",
       "    <tr>\n",
       "      <th>98</th>\n",
       "      <td>16760</td>\n",
       "      <td>6ma5</td>\n",
       "      <td>J9V</td>\n",
       "      <td>0.000008</td>\n",
       "    </tr>\n",
       "    <tr>\n",
       "      <th>99</th>\n",
       "      <td>16771</td>\n",
       "      <td>6ma4</td>\n",
       "      <td>JA7</td>\n",
       "      <td>0.000045</td>\n",
       "    </tr>\n",
       "  </tbody>\n",
       "</table>\n",
       "<p>100 rows × 4 columns</p>\n",
       "</div>"
      ],
      "text/plain": [
       "      Num PDB_code ligand  affinity_nM\n",
       "0     308     1dar    GDP     0.011000\n",
       "1   14061     5etp    5RZ     0.000700\n",
       "2   12943     5ct1    NHE     0.000030\n",
       "3   12760     4urx    HXY     0.000001\n",
       "4    4509     3bva    2NC     0.000300\n",
       "..    ...      ...    ...          ...\n",
       "95  16776     6epz    MLB     0.000072\n",
       "96   6396     3p2e    SAH     0.000600\n",
       "97  17022     6fba    D48     0.019900\n",
       "98  16760     6ma5    J9V     0.000008\n",
       "99  16771     6ma4    JA7     0.000045\n",
       "\n",
       "[100 rows x 4 columns]"
      ]
     },
     "execution_count": 98,
     "metadata": {},
     "output_type": "execute_result"
    }
   ],
   "source": [
    "## Load sample data\n",
    "# load data\n",
    "import pandas as pd\n",
    "import os \n",
    "os.getcwd()\n",
    "os.chdir('/mnt/ailon/pdb_test/pdb_sample_work/make_kd_candidate')\n",
    "pdb_sample = pd.read_csv('pdb_kd_004_sample.csv')\n",
    "pdb_sample"
   ]
  },
  {
   "cell_type": "code",
   "execution_count": 101,
   "metadata": {},
   "outputs": [
    {
     "data": {
      "text/plain": [
       "0     0.011000\n",
       "1     0.000700\n",
       "2     0.000030\n",
       "3     0.000001\n",
       "4     0.000300\n",
       "        ...   \n",
       "95    0.000072\n",
       "96    0.000600\n",
       "97    0.019900\n",
       "98    0.000008\n",
       "99    0.000045\n",
       "Name: affinity_nM, Length: 100, dtype: float64"
      ]
     },
     "execution_count": 101,
     "metadata": {},
     "output_type": "execute_result"
    }
   ],
   "source": [
    "pdb_sample['affinity_nM']"
   ]
  },
  {
   "cell_type": "code",
   "execution_count": 104,
   "metadata": {},
   "outputs": [],
   "source": [
    "import pandas as pd\n",
    "\n",
    "os.chdir('/mnt/ailon/pdb_test')\n",
    "pdb = pd.read_csv('pdb_kd_samp_matching.csv')"
   ]
  },
  {
   "cell_type": "code",
   "execution_count": 105,
   "metadata": {},
   "outputs": [
    {
     "data": {
      "text/html": [
       "<div>\n",
       "<style scoped>\n",
       "    .dataframe tbody tr th:only-of-type {\n",
       "        vertical-align: middle;\n",
       "    }\n",
       "\n",
       "    .dataframe tbody tr th {\n",
       "        vertical-align: top;\n",
       "    }\n",
       "\n",
       "    .dataframe thead th {\n",
       "        text-align: right;\n",
       "    }\n",
       "</style>\n",
       "<table border=\"1\" class=\"dataframe\">\n",
       "  <thead>\n",
       "    <tr style=\"text-align: right;\">\n",
       "      <th></th>\n",
       "      <th>Num</th>\n",
       "      <th>PDB_code</th>\n",
       "      <th>ligand</th>\n",
       "      <th>affinity_nM</th>\n",
       "    </tr>\n",
       "  </thead>\n",
       "  <tbody>\n",
       "    <tr>\n",
       "      <th>0</th>\n",
       "      <td>1</td>\n",
       "      <td>4cpa</td>\n",
       "      <td>GLY</td>\n",
       "      <td>5.0</td>\n",
       "    </tr>\n",
       "    <tr>\n",
       "      <th>1</th>\n",
       "      <td>6</td>\n",
       "      <td>1rnt</td>\n",
       "      <td>2GP</td>\n",
       "      <td>6500.0</td>\n",
       "    </tr>\n",
       "    <tr>\n",
       "      <th>2</th>\n",
       "      <td>8</td>\n",
       "      <td>4ts1</td>\n",
       "      <td>TYR</td>\n",
       "      <td>11600.0</td>\n",
       "    </tr>\n",
       "    <tr>\n",
       "      <th>3</th>\n",
       "      <td>14</td>\n",
       "      <td>4fab</td>\n",
       "      <td>FLU</td>\n",
       "      <td>8.8</td>\n",
       "    </tr>\n",
       "    <tr>\n",
       "      <th>4</th>\n",
       "      <td>25</td>\n",
       "      <td>8abp</td>\n",
       "      <td>GLA/GLB</td>\n",
       "      <td>10.0</td>\n",
       "    </tr>\n",
       "    <tr>\n",
       "      <th>...</th>\n",
       "      <td>...</td>\n",
       "      <td>...</td>\n",
       "      <td>...</td>\n",
       "      <td>...</td>\n",
       "    </tr>\n",
       "    <tr>\n",
       "      <th>4497</th>\n",
       "      <td>17364</td>\n",
       "      <td>6bmi</td>\n",
       "      <td>SER</td>\n",
       "      <td>9000.0</td>\n",
       "    </tr>\n",
       "    <tr>\n",
       "      <th>4498</th>\n",
       "      <td>17365</td>\n",
       "      <td>6d50</td>\n",
       "      <td>GCB</td>\n",
       "      <td>9000.0</td>\n",
       "    </tr>\n",
       "    <tr>\n",
       "      <th>4499</th>\n",
       "      <td>17366</td>\n",
       "      <td>6exi</td>\n",
       "      <td>ADN</td>\n",
       "      <td>9000.0</td>\n",
       "    </tr>\n",
       "    <tr>\n",
       "      <th>4500</th>\n",
       "      <td>17670</td>\n",
       "      <td>6d28</td>\n",
       "      <td>NEC</td>\n",
       "      <td>200.0</td>\n",
       "    </tr>\n",
       "    <tr>\n",
       "      <th>4501</th>\n",
       "      <td>17675</td>\n",
       "      <td>6nao</td>\n",
       "      <td>8ZP</td>\n",
       "      <td>200.0</td>\n",
       "    </tr>\n",
       "  </tbody>\n",
       "</table>\n",
       "<p>4502 rows × 4 columns</p>\n",
       "</div>"
      ],
      "text/plain": [
       "        Num PDB_code   ligand  affinity_nM\n",
       "0         1     4cpa      GLY          5.0\n",
       "1         6     1rnt      2GP       6500.0\n",
       "2         8     4ts1      TYR      11600.0\n",
       "3        14     4fab      FLU          8.8\n",
       "4        25     8abp  GLA/GLB         10.0\n",
       "...     ...      ...      ...          ...\n",
       "4497  17364     6bmi      SER       9000.0\n",
       "4498  17365     6d50      GCB       9000.0\n",
       "4499  17366     6exi      ADN       9000.0\n",
       "4500  17670     6d28      NEC        200.0\n",
       "4501  17675     6nao      8ZP        200.0\n",
       "\n",
       "[4502 rows x 4 columns]"
      ]
     },
     "execution_count": 105,
     "metadata": {},
     "output_type": "execute_result"
    }
   ],
   "source": [
    "pdb"
   ]
  },
  {
   "cell_type": "code",
   "execution_count": 108,
   "metadata": {},
   "outputs": [
    {
     "name": "stderr",
     "output_type": "stream",
     "text": [
      "/home/ailon/anaconda3/envs/dgraphdta/lib/python3.6/site-packages/ipykernel_launcher.py:5: SettingWithCopyWarning: \n",
      "A value is trying to be set on a copy of a slice from a DataFrame\n",
      "\n",
      "See the caveats in the documentation: https://pandas.pydata.org/pandas-docs/stable/user_guide/indexing.html#returning-a-view-versus-a-copy\n",
      "  \"\"\"\n"
     ]
    }
   ],
   "source": [
    "tmp = []\n",
    "for i in range(len(pdb_sample)):\n",
    "    for j in range(len(pdb)):\n",
    "        if pdb_sample['PDB_code'][i] == pdb['PDB_code'][j]:\n",
    "            pdb_sample['affinity_nM'][i] = pdb['affinity_nM'][j]\n",
    "#            tmp.append(pdb['affinity_nM'][j])\n",
    "#            print(pdb_sample['affinity'][i])\n",
    "        else:\n",
    "            pass"
   ]
  },
  {
   "cell_type": "code",
   "execution_count": 109,
   "metadata": {},
   "outputs": [
    {
     "data": {
      "text/html": [
       "<div>\n",
       "<style scoped>\n",
       "    .dataframe tbody tr th:only-of-type {\n",
       "        vertical-align: middle;\n",
       "    }\n",
       "\n",
       "    .dataframe tbody tr th {\n",
       "        vertical-align: top;\n",
       "    }\n",
       "\n",
       "    .dataframe thead th {\n",
       "        text-align: right;\n",
       "    }\n",
       "</style>\n",
       "<table border=\"1\" class=\"dataframe\">\n",
       "  <thead>\n",
       "    <tr style=\"text-align: right;\">\n",
       "      <th></th>\n",
       "      <th>Num</th>\n",
       "      <th>PDB_code</th>\n",
       "      <th>ligand</th>\n",
       "      <th>affinity_nM</th>\n",
       "    </tr>\n",
       "  </thead>\n",
       "  <tbody>\n",
       "    <tr>\n",
       "      <th>0</th>\n",
       "      <td>308</td>\n",
       "      <td>1dar</td>\n",
       "      <td>GDP</td>\n",
       "      <td>1.100000e+04</td>\n",
       "    </tr>\n",
       "    <tr>\n",
       "      <th>1</th>\n",
       "      <td>14061</td>\n",
       "      <td>5etp</td>\n",
       "      <td>5RZ</td>\n",
       "      <td>7.000000e+02</td>\n",
       "    </tr>\n",
       "    <tr>\n",
       "      <th>2</th>\n",
       "      <td>12943</td>\n",
       "      <td>5ct1</td>\n",
       "      <td>NHE</td>\n",
       "      <td>3.020000e-05</td>\n",
       "    </tr>\n",
       "    <tr>\n",
       "      <th>3</th>\n",
       "      <td>12760</td>\n",
       "      <td>4urx</td>\n",
       "      <td>HXY</td>\n",
       "      <td>1.300000e+06</td>\n",
       "    </tr>\n",
       "    <tr>\n",
       "      <th>4</th>\n",
       "      <td>4509</td>\n",
       "      <td>3bva</td>\n",
       "      <td>2NC</td>\n",
       "      <td>3.000000e+02</td>\n",
       "    </tr>\n",
       "    <tr>\n",
       "      <th>...</th>\n",
       "      <td>...</td>\n",
       "      <td>...</td>\n",
       "      <td>...</td>\n",
       "      <td>...</td>\n",
       "    </tr>\n",
       "    <tr>\n",
       "      <th>95</th>\n",
       "      <td>16776</td>\n",
       "      <td>6epz</td>\n",
       "      <td>MLB</td>\n",
       "      <td>7.200000e+01</td>\n",
       "    </tr>\n",
       "    <tr>\n",
       "      <th>96</th>\n",
       "      <td>6396</td>\n",
       "      <td>3p2e</td>\n",
       "      <td>SAH</td>\n",
       "      <td>6.000000e+02</td>\n",
       "    </tr>\n",
       "    <tr>\n",
       "      <th>97</th>\n",
       "      <td>17022</td>\n",
       "      <td>6fba</td>\n",
       "      <td>D48</td>\n",
       "      <td>1.990000e+04</td>\n",
       "    </tr>\n",
       "    <tr>\n",
       "      <th>98</th>\n",
       "      <td>16760</td>\n",
       "      <td>6ma5</td>\n",
       "      <td>J9V</td>\n",
       "      <td>8.000000e+00</td>\n",
       "    </tr>\n",
       "    <tr>\n",
       "      <th>99</th>\n",
       "      <td>16771</td>\n",
       "      <td>6ma4</td>\n",
       "      <td>JA7</td>\n",
       "      <td>4.500000e+01</td>\n",
       "    </tr>\n",
       "  </tbody>\n",
       "</table>\n",
       "<p>100 rows × 4 columns</p>\n",
       "</div>"
      ],
      "text/plain": [
       "      Num PDB_code ligand   affinity_nM\n",
       "0     308     1dar    GDP  1.100000e+04\n",
       "1   14061     5etp    5RZ  7.000000e+02\n",
       "2   12943     5ct1    NHE  3.020000e-05\n",
       "3   12760     4urx    HXY  1.300000e+06\n",
       "4    4509     3bva    2NC  3.000000e+02\n",
       "..    ...      ...    ...           ...\n",
       "95  16776     6epz    MLB  7.200000e+01\n",
       "96   6396     3p2e    SAH  6.000000e+02\n",
       "97  17022     6fba    D48  1.990000e+04\n",
       "98  16760     6ma5    J9V  8.000000e+00\n",
       "99  16771     6ma4    JA7  4.500000e+01\n",
       "\n",
       "[100 rows x 4 columns]"
      ]
     },
     "execution_count": 109,
     "metadata": {},
     "output_type": "execute_result"
    }
   ],
   "source": [
    "pdb_sample"
   ]
  },
  {
   "cell_type": "code",
   "execution_count": 112,
   "metadata": {},
   "outputs": [],
   "source": [
    "import numpy as np\n",
    "\n",
    "pdb_sample['affinity_nM'] = [-np.log10(y / 1e9) for y in pdb_sample['affinity_nM']]"
   ]
  },
  {
   "cell_type": "code",
   "execution_count": 113,
   "metadata": {},
   "outputs": [
    {
     "data": {
      "text/html": [
       "<div>\n",
       "<style scoped>\n",
       "    .dataframe tbody tr th:only-of-type {\n",
       "        vertical-align: middle;\n",
       "    }\n",
       "\n",
       "    .dataframe tbody tr th {\n",
       "        vertical-align: top;\n",
       "    }\n",
       "\n",
       "    .dataframe thead th {\n",
       "        text-align: right;\n",
       "    }\n",
       "</style>\n",
       "<table border=\"1\" class=\"dataframe\">\n",
       "  <thead>\n",
       "    <tr style=\"text-align: right;\">\n",
       "      <th></th>\n",
       "      <th>Num</th>\n",
       "      <th>PDB_code</th>\n",
       "      <th>ligand</th>\n",
       "      <th>affinity_nM</th>\n",
       "    </tr>\n",
       "  </thead>\n",
       "  <tbody>\n",
       "    <tr>\n",
       "      <th>0</th>\n",
       "      <td>308</td>\n",
       "      <td>1dar</td>\n",
       "      <td>GDP</td>\n",
       "      <td>4.958607</td>\n",
       "    </tr>\n",
       "    <tr>\n",
       "      <th>1</th>\n",
       "      <td>14061</td>\n",
       "      <td>5etp</td>\n",
       "      <td>5RZ</td>\n",
       "      <td>6.154902</td>\n",
       "    </tr>\n",
       "    <tr>\n",
       "      <th>2</th>\n",
       "      <td>12943</td>\n",
       "      <td>5ct1</td>\n",
       "      <td>NHE</td>\n",
       "      <td>13.519993</td>\n",
       "    </tr>\n",
       "    <tr>\n",
       "      <th>3</th>\n",
       "      <td>12760</td>\n",
       "      <td>4urx</td>\n",
       "      <td>HXY</td>\n",
       "      <td>2.886057</td>\n",
       "    </tr>\n",
       "    <tr>\n",
       "      <th>4</th>\n",
       "      <td>4509</td>\n",
       "      <td>3bva</td>\n",
       "      <td>2NC</td>\n",
       "      <td>6.522879</td>\n",
       "    </tr>\n",
       "    <tr>\n",
       "      <th>...</th>\n",
       "      <td>...</td>\n",
       "      <td>...</td>\n",
       "      <td>...</td>\n",
       "      <td>...</td>\n",
       "    </tr>\n",
       "    <tr>\n",
       "      <th>95</th>\n",
       "      <td>16776</td>\n",
       "      <td>6epz</td>\n",
       "      <td>MLB</td>\n",
       "      <td>7.142668</td>\n",
       "    </tr>\n",
       "    <tr>\n",
       "      <th>96</th>\n",
       "      <td>6396</td>\n",
       "      <td>3p2e</td>\n",
       "      <td>SAH</td>\n",
       "      <td>6.221849</td>\n",
       "    </tr>\n",
       "    <tr>\n",
       "      <th>97</th>\n",
       "      <td>17022</td>\n",
       "      <td>6fba</td>\n",
       "      <td>D48</td>\n",
       "      <td>4.701147</td>\n",
       "    </tr>\n",
       "    <tr>\n",
       "      <th>98</th>\n",
       "      <td>16760</td>\n",
       "      <td>6ma5</td>\n",
       "      <td>J9V</td>\n",
       "      <td>8.096910</td>\n",
       "    </tr>\n",
       "    <tr>\n",
       "      <th>99</th>\n",
       "      <td>16771</td>\n",
       "      <td>6ma4</td>\n",
       "      <td>JA7</td>\n",
       "      <td>7.346787</td>\n",
       "    </tr>\n",
       "  </tbody>\n",
       "</table>\n",
       "<p>100 rows × 4 columns</p>\n",
       "</div>"
      ],
      "text/plain": [
       "      Num PDB_code ligand  affinity_nM\n",
       "0     308     1dar    GDP     4.958607\n",
       "1   14061     5etp    5RZ     6.154902\n",
       "2   12943     5ct1    NHE    13.519993\n",
       "3   12760     4urx    HXY     2.886057\n",
       "4    4509     3bva    2NC     6.522879\n",
       "..    ...      ...    ...          ...\n",
       "95  16776     6epz    MLB     7.142668\n",
       "96   6396     3p2e    SAH     6.221849\n",
       "97  17022     6fba    D48     4.701147\n",
       "98  16760     6ma5    J9V     8.096910\n",
       "99  16771     6ma4    JA7     7.346787\n",
       "\n",
       "[100 rows x 4 columns]"
      ]
     },
     "execution_count": 113,
     "metadata": {},
     "output_type": "execute_result"
    }
   ],
   "source": [
    "pdb_sample"
   ]
  },
  {
   "cell_type": "code",
   "execution_count": 118,
   "metadata": {},
   "outputs": [
    {
     "data": {
      "text/plain": [
       "'/mnt/ailon/pdb_test'"
      ]
     },
     "execution_count": 118,
     "metadata": {},
     "output_type": "execute_result"
    }
   ],
   "source": [
    "# save the corrected 'pdb_sample' \n",
    "\n",
    "os.getcwd()"
   ]
  },
  {
   "cell_type": "code",
   "execution_count": 119,
   "metadata": {},
   "outputs": [],
   "source": [
    "pdb_sample.to_csv('pdb_sample_1109.csv', header = True, index = False)"
   ]
  },
  {
   "cell_type": "markdown",
   "metadata": {},
   "source": [
    "## Make ligand's smiles "
   ]
  },
  {
   "cell_type": "code",
   "execution_count": 120,
   "metadata": {},
   "outputs": [],
   "source": [
    "tmp = pd.read_csv('pdb_sample_1109.csv')"
   ]
  },
  {
   "cell_type": "code",
   "execution_count": 121,
   "metadata": {},
   "outputs": [
    {
     "data": {
      "text/html": [
       "<div>\n",
       "<style scoped>\n",
       "    .dataframe tbody tr th:only-of-type {\n",
       "        vertical-align: middle;\n",
       "    }\n",
       "\n",
       "    .dataframe tbody tr th {\n",
       "        vertical-align: top;\n",
       "    }\n",
       "\n",
       "    .dataframe thead th {\n",
       "        text-align: right;\n",
       "    }\n",
       "</style>\n",
       "<table border=\"1\" class=\"dataframe\">\n",
       "  <thead>\n",
       "    <tr style=\"text-align: right;\">\n",
       "      <th></th>\n",
       "      <th>Num</th>\n",
       "      <th>PDB_code</th>\n",
       "      <th>ligand</th>\n",
       "      <th>affinity_nM</th>\n",
       "    </tr>\n",
       "  </thead>\n",
       "  <tbody>\n",
       "    <tr>\n",
       "      <th>0</th>\n",
       "      <td>308</td>\n",
       "      <td>1dar</td>\n",
       "      <td>GDP</td>\n",
       "      <td>4.958607</td>\n",
       "    </tr>\n",
       "    <tr>\n",
       "      <th>1</th>\n",
       "      <td>14061</td>\n",
       "      <td>5etp</td>\n",
       "      <td>5RZ</td>\n",
       "      <td>6.154902</td>\n",
       "    </tr>\n",
       "    <tr>\n",
       "      <th>2</th>\n",
       "      <td>12943</td>\n",
       "      <td>5ct1</td>\n",
       "      <td>NHE</td>\n",
       "      <td>13.519993</td>\n",
       "    </tr>\n",
       "    <tr>\n",
       "      <th>3</th>\n",
       "      <td>12760</td>\n",
       "      <td>4urx</td>\n",
       "      <td>HXY</td>\n",
       "      <td>2.886057</td>\n",
       "    </tr>\n",
       "    <tr>\n",
       "      <th>4</th>\n",
       "      <td>4509</td>\n",
       "      <td>3bva</td>\n",
       "      <td>2NC</td>\n",
       "      <td>6.522879</td>\n",
       "    </tr>\n",
       "    <tr>\n",
       "      <th>...</th>\n",
       "      <td>...</td>\n",
       "      <td>...</td>\n",
       "      <td>...</td>\n",
       "      <td>...</td>\n",
       "    </tr>\n",
       "    <tr>\n",
       "      <th>95</th>\n",
       "      <td>16776</td>\n",
       "      <td>6epz</td>\n",
       "      <td>MLB</td>\n",
       "      <td>7.142668</td>\n",
       "    </tr>\n",
       "    <tr>\n",
       "      <th>96</th>\n",
       "      <td>6396</td>\n",
       "      <td>3p2e</td>\n",
       "      <td>SAH</td>\n",
       "      <td>6.221849</td>\n",
       "    </tr>\n",
       "    <tr>\n",
       "      <th>97</th>\n",
       "      <td>17022</td>\n",
       "      <td>6fba</td>\n",
       "      <td>D48</td>\n",
       "      <td>4.701147</td>\n",
       "    </tr>\n",
       "    <tr>\n",
       "      <th>98</th>\n",
       "      <td>16760</td>\n",
       "      <td>6ma5</td>\n",
       "      <td>J9V</td>\n",
       "      <td>8.096910</td>\n",
       "    </tr>\n",
       "    <tr>\n",
       "      <th>99</th>\n",
       "      <td>16771</td>\n",
       "      <td>6ma4</td>\n",
       "      <td>JA7</td>\n",
       "      <td>7.346787</td>\n",
       "    </tr>\n",
       "  </tbody>\n",
       "</table>\n",
       "<p>100 rows × 4 columns</p>\n",
       "</div>"
      ],
      "text/plain": [
       "      Num PDB_code ligand  affinity_nM\n",
       "0     308     1dar    GDP     4.958607\n",
       "1   14061     5etp    5RZ     6.154902\n",
       "2   12943     5ct1    NHE    13.519993\n",
       "3   12760     4urx    HXY     2.886057\n",
       "4    4509     3bva    2NC     6.522879\n",
       "..    ...      ...    ...          ...\n",
       "95  16776     6epz    MLB     7.142668\n",
       "96   6396     3p2e    SAH     6.221849\n",
       "97  17022     6fba    D48     4.701147\n",
       "98  16760     6ma5    J9V     8.096910\n",
       "99  16771     6ma4    JA7     7.346787\n",
       "\n",
       "[100 rows x 4 columns]"
      ]
     },
     "execution_count": 121,
     "metadata": {},
     "output_type": "execute_result"
    }
   ],
   "source": [
    "tmp"
   ]
  },
  {
   "cell_type": "code",
   "execution_count": 137,
   "metadata": {},
   "outputs": [],
   "source": [
    "# search mol2 file\n",
    "\n",
    "mol2_path = '/mnt/ailon/pdb_test/mol2/'\n",
    "mol_list = []\n",
    "for pdb_code in tmp['PDB_code']:\n",
    "    mol_list.append(os.path.join(mol2_path + pdb_code + '_ligand.mol2'))"
   ]
  },
  {
   "cell_type": "code",
   "execution_count": 138,
   "metadata": {},
   "outputs": [
    {
     "data": {
      "text/plain": [
       "100"
      ]
     },
     "execution_count": 138,
     "metadata": {},
     "output_type": "execute_result"
    }
   ],
   "source": [
    "len(mol_list)"
   ]
  },
  {
   "cell_type": "code",
   "execution_count": 139,
   "metadata": {},
   "outputs": [
    {
     "data": {
      "text/plain": [
       "['/mnt/ailon/pdb_test/mol2/1dar_ligand.mol2',\n",
       " '/mnt/ailon/pdb_test/mol2/5etp_ligand.mol2',\n",
       " '/mnt/ailon/pdb_test/mol2/5ct1_ligand.mol2',\n",
       " '/mnt/ailon/pdb_test/mol2/4urx_ligand.mol2',\n",
       " '/mnt/ailon/pdb_test/mol2/3bva_ligand.mol2']"
      ]
     },
     "execution_count": 139,
     "metadata": {},
     "output_type": "execute_result"
    }
   ],
   "source": [
    "mol_list[0:5]"
   ]
  },
  {
   "cell_type": "code",
   "execution_count": 144,
   "metadata": {},
   "outputs": [
    {
     "name": "stdout",
     "output_type": "stream",
     "text": [
      "<rdkit.Chem.rdchem.Mol object at 0x7f7980126a30>\n"
     ]
    }
   ],
   "source": [
    "# Test for making Ligand Smiles\n",
    "import rdkit\n",
    "from rdkit import Chem\n",
    "from rdkit.Chem import MolFromSmiles\n",
    "\n",
    "from rdkit.Chem.Draw import IPythonConsole\n",
    "from rdkit.Chem import Draw\n",
    "\n",
    "a = rdkit.Chem.rdmolfiles.MolFromMol2File(mol_list[1])\n",
    "mol_list[1]\n",
    "\n",
    "print(a)\n"
   ]
  },
  {
   "cell_type": "code",
   "execution_count": 145,
   "metadata": {},
   "outputs": [
    {
     "data": {
      "image/png": "[encoded data removed]",
      "text/plain": [
       "<rdkit.Chem.rdchem.Mol at 0x7f7980126a30>"
      ]
     },
     "execution_count": 145,
     "metadata": {},
     "output_type": "execute_result"
    }
   ],
   "source": [
    "a"
   ]
  },
  {
   "cell_type": "code",
   "execution_count": 146,
   "metadata": {},
   "outputs": [
    {
     "data": {
      "text/plain": [
       "'[NH2+]=c1[nH]c(=O)c2[nH]c(SCC(=O)c3ccc(Br)cc3)nc2[nH]1'"
      ]
     },
     "execution_count": 146,
     "metadata": {},
     "output_type": "execute_result"
    }
   ],
   "source": [
    "b = Chem.MolToSmiles(a)\n",
    "b = Chem.MolToSmiles(a,isomericSmiles=False)\n",
    "b"
   ]
  },
  {
   "cell_type": "code",
   "execution_count": 148,
   "metadata": {},
   "outputs": [
    {
     "name": "stdout",
     "output_type": "stream",
     "text": [
      "1jou_ligand.mol2\n",
      "4lz9_ligand.mol2\n",
      "04-Oct_ligand.mol2\n"
     ]
    },
    {
     "name": "stderr",
     "output_type": "stream",
     "text": [
      "RDKit WARNING: [09:47:46] 1dar_ligand: warning - O.co2 with non C.2 or S.o2 neighbor.\n",
      "RDKit WARNING: [09:47:46] 2lko_ligand: warning - O.co2 with non C.2 or S.o2 neighbor.\n",
      "RDKit WARNING: [09:47:46] 3qx8_ligand: warning - O.co2 with non C.2 or S.o2 neighbor.\n",
      "RDKit WARNING: [09:47:46] 3b82_ligand: warning - O.co2 with non C.2 or S.o2 neighbor.\n",
      "RDKit WARNING: [09:47:46] 5wrs_ligand: warning - O.co2 with non C.2 or S.o2 neighbor.\n",
      "RDKit WARNING: [09:47:46] 5lvd_ligand: warning - O.co2 with non C.2 or S.o2 neighbor.\n",
      "RDKit WARNING: [09:47:46] 5eom_ligand: warning - O.co2 with non C.2 or S.o2 neighbor.\n",
      "RDKit WARNING: [09:47:46] 2fsv_ligand: warning - O.co2 with non C.2 or S.o2 neighbor.\n",
      "RDKit WARNING: [09:47:46] 1ex8_ligand: warning - O.co2 with non C.2 or S.o2 neighbor.\n",
      "RDKit WARNING: [09:47:46] 1ucn_ligand: warning - O.co2 with non C.2 or S.o2 neighbor.\n",
      "RDKit WARNING: [09:47:46] 2nsl_ligand: warning - O.co2 with non C.2 or S.o2 neighbor.\n",
      "RDKit WARNING: [09:47:46] 5z68_ligand: warning - O.co2 with non C.2 or S.o2 neighbor.\n",
      "RDKit WARNING: [09:47:46] 2fxv_ligand: warning - O.co2 with non C.2 or S.o2 neighbor.\n",
      "RDKit WARNING: [09:47:46] 3wgg_ligand: warning - O.co2 with non C.2 or S.o2 neighbor.\n",
      "RDKit WARNING: [09:47:46] 4wk1_ligand: warning - O.co2 with non C.2 or S.o2 neighbor.\n",
      "RDKit WARNING: [09:47:46] 3qx9_ligand: warning - O.co2 with non C.2 or S.o2 neighbor.\n",
      "RDKit WARNING: [09:47:46] 4zec_ligand: warning - O.co2 with non C.2 or S.o2 neighbor.\n",
      "RDKit ERROR: [09:47:46] Explicit valence for atom # 2 O, 3, is greater than permitted\n",
      "RDKit WARNING: [09:47:46] sanitise [09:47:46] 3bho_ligand_experimental: [09:47:46] 5ipc_ligand: warning - O.co2 with non C.2 or S.o2 neighbor.\n",
      "RDKit WARNING: [09:47:46] 4knz_ligand: warning - O.co2 with non C.2 or S.o2 neighbor.\n"
     ]
    }
   ],
   "source": [
    "# Get Smiles from mol2 if it is possible to change mol2 in Rdkit\n",
    "\n",
    "availableList = []\n",
    "drugs = []\n",
    "\n",
    "for i in range(len(mol_list)):\n",
    "    try:\n",
    "        mol2 = Chem.MolFromMol2File(mol_list[i])\n",
    "        if mol2 != None:\n",
    "            availableList.append(mol_list[i])\n",
    "            drugs.append(Chem.MolFromMol2File(mol_list[i]))\n",
    "    except:\n",
    "        molTmp = mol_list[i].split('/')[5]\n",
    "        print(molTmp)\n",
    "        pass\n",
    "            \n",
    "\n"
   ]
  },
  {
   "cell_type": "code",
   "execution_count": 149,
   "metadata": {},
   "outputs": [
    {
     "data": {
      "text/plain": [
       "77"
      ]
     },
     "execution_count": 149,
     "metadata": {},
     "output_type": "execute_result"
    }
   ],
   "source": [
    "len(drugs)"
   ]
  },
  {
   "cell_type": "code",
   "execution_count": 151,
   "metadata": {},
   "outputs": [
    {
     "data": {
      "text/plain": [
       "77"
      ]
     },
     "execution_count": 151,
     "metadata": {},
     "output_type": "execute_result"
    }
   ],
   "source": [
    "len(availableList)"
   ]
  },
  {
   "cell_type": "code",
   "execution_count": 159,
   "metadata": {},
   "outputs": [],
   "source": [
    "sampleA = availableList[0:5]"
   ]
  },
  {
   "cell_type": "code",
   "execution_count": 160,
   "metadata": {},
   "outputs": [],
   "source": [
    "sampleD = drugs[0:5]"
   ]
  },
  {
   "cell_type": "code",
   "execution_count": 168,
   "metadata": {},
   "outputs": [
    {
     "data": {
      "text/plain": [
       "5"
      ]
     },
     "execution_count": 168,
     "metadata": {},
     "output_type": "execute_result"
    }
   ],
   "source": [
    "# Make ligand dictionary: {pdb_code: smiles}\n",
    "sampleAPdbCode = []\n",
    "\n",
    "for i in sampleA:\n",
    "     sampleAPdbCode.append(i.split('/')[5][0:4])\n",
    "\n",
    "\n",
    "len(sampleAPdbCode)"
   ]
  },
  {
   "cell_type": "code",
   "execution_count": 169,
   "metadata": {},
   "outputs": [
    {
     "data": {
      "text/plain": [
       "5"
      ]
     },
     "execution_count": 169,
     "metadata": {},
     "output_type": "execute_result"
    }
   ],
   "source": [
    "drugSmiles = []\n",
    "for i in sampleD:\n",
    "    drugSmiles.append(Chem.MolToSmiles(i,isomericSmiles=False))\n",
    "len(drugSmiles)"
   ]
  },
  {
   "cell_type": "code",
   "execution_count": 170,
   "metadata": {},
   "outputs": [],
   "source": [
    "# Make dictionary form\n",
    "\n",
    "ligand_dic = {}\n",
    "for sampleAPdbCode, drugSmiles in zip (sampleAPdbCode, drugSmiles):\n",
    "    ligand_dic[sampleAPdbCode] = drugSmiles"
   ]
  },
  {
   "cell_type": "code",
   "execution_count": 171,
   "metadata": {},
   "outputs": [
    {
     "data": {
      "text/plain": [
       "{'5etp': '[NH2+]=c1[nH]c(=O)c2[nH]c(SCC(=O)c3ccc(Br)cc3)nc2[nH]1',\n",
       " '5ct1': 'O=S(=O)([O-])CC[NH2+]C1CCCCC1',\n",
       " '4urx': 'Brc1ccc(C[NH+]2CC=CC2)cc1',\n",
       " '3bva': 'CCCCC(C[NH2+]C(CCCC)C(=O)NC(CCC(N)=O)C(=O)NC(CCCNC(N)=[NH2+])C(N)=O)NC(=O)C(NC(=O)C(NC(C)=O)C(C)O)C(C)CC',\n",
       " '4qsv': 'Cc1cn(C2CC(O)C(CO)O2)c(=O)[nH]c1=O'}"
      ]
     },
     "execution_count": 171,
     "metadata": {},
     "output_type": "execute_result"
    }
   ],
   "source": [
    "ligand_dic"
   ]
  },
  {
   "cell_type": "code",
   "execution_count": 172,
   "metadata": {},
   "outputs": [],
   "source": [
    "# save ligand_dic\n",
    "\n",
    "import json\n",
    "\n",
    "os.chdir('/mnt/ailon/pdb_test/1109')\n",
    "with open('ligand_can.txt', 'w') as f:\n",
    "    f.write(json.dumps(ligand_dic))"
   ]
  },
  {
   "cell_type": "markdown",
   "metadata": {},
   "source": [
    "## Make Protein sequence "
   ]
  },
  {
   "cell_type": "code",
   "execution_count": 177,
   "metadata": {},
   "outputs": [
    {
     "name": "stdout",
     "output_type": "stream",
     "text": [
      "<Complex.Complex object at 0x7f7a58e25668>\n",
      "<Protein.Protein object at 0x7f7a57635318>\n",
      "ISNYINTIPVEEQPEYPGNLELERRIRSAIRWNAIMTVLRASKKDLELGGHMASFQSSATIYDVCFNHFFRARNEQDGGDLVYFQGHISPGVYARAFLEGRLTQEQLDNFRQEVHGNGLSSYPHPKLMPEFWQFPTVSMGLGPIGAIYQAKFLKYLEHRGLKDTSKQTVYAFLGDGEMDEPESKGAITIATREKLDNLVFVINCNLQRLDGPVTGNGKIINELEGIFEGAGWNVIKVMWGSRWDELLRKDTSGKLIQLMNETVDGDYQTFKSKDGAYVREHFFGKYPETAALVADWTDEQIWALNRGGHDPKKIYAAFKKAQETKGKATVILAHTIKGYGMGDAAMDGVRHIRDRFNVPVSDADIEKLPYITFPEGSEEHTYLHAQRQKLHGYLPSRQPNFTEKLELPSLQDFGALLEEQSKEISTTIAFVRALNVMLKNKSIKDRLVPIIADEARTFGMEGLFRQIGIYSPEDEKGQILQEGINALGAGCSWLAAATSYSTNNLPMIPFYIYYSMFGFQRIGDLCWAAGDQQARGFLIGGTSGRTTLNGEGLQHEDGHSHIQSLTIPNCISYDPAYAYEVAVIMHDGLERMYGEKQENVYYYITTLNENYHMPAMPEGAEEGIRKGIYKLETIEGSKGKVQLLGSGSILRHVREAAEILAKDYGVGSDVYSVTSFTELARDGQDCERWNMLHPLETPRVPYIAQVMNDAPAVASTDYMKLFAEQVRTYVPADDYRVLGTDGFGRSDSRENLRHHFEVDASYVVVAALGELAKRGEIDKKVVADAIAKFNIDADKVNPRLA\n"
     ]
    }
   ],
   "source": [
    "# Test for PDBParser\n",
    "import os\n",
    "os.chdir('/mnt/ailon/pdb_test/Library_v201013')\n",
    "\n",
    "\n",
    "import PDBParser\n",
    "pdbParser = PDBParser.PDBParser()\n",
    "\n",
    "target = pdbParser.load_pdb('3lpl', '../PDB/')\n",
    "#source = pdbParser.load_pdb('H1081_2VYC-coot-1', './input/')\n",
    "\n",
    "tprotein = target.getProtein()\n",
    "#sprotein = source.getProtein()\n",
    "\n",
    "tseq = tprotein.extractSequence('A')\n",
    "#sseq = sprotein.extractSequence('A')\n",
    "\n",
    "print(target)\n",
    "print(tprotein)\n",
    "print(tseq)"
   ]
  },
  {
   "cell_type": "code",
   "execution_count": 180,
   "metadata": {},
   "outputs": [],
   "source": [
    "# load data\n",
    "import pandas as pd\n",
    "import os\n",
    "\n",
    "os.chdir('/mnt/ailon/pdb_test')\n",
    "pdb_sample = pd.read_csv('pdb_sample_1109.csv')"
   ]
  },
  {
   "cell_type": "code",
   "execution_count": 183,
   "metadata": {},
   "outputs": [
    {
     "data": {
      "text/plain": [
       "0     1dar\n",
       "1     5etp\n",
       "2     5ct1\n",
       "3     4urx\n",
       "4     3bva\n",
       "      ... \n",
       "95    6epz\n",
       "96    3p2e\n",
       "97    6fba\n",
       "98    6ma5\n",
       "99    6ma4\n",
       "Name: PDB_code, Length: 100, dtype: object"
      ]
     },
     "execution_count": 183,
     "metadata": {},
     "output_type": "execute_result"
    }
   ],
   "source": [
    "# Define \n",
    "pdb_code = pdb_sample['PDB_code']\n",
    "pdb_code"
   ]
  },
  {
   "cell_type": "code",
   "execution_count": 184,
   "metadata": {},
   "outputs": [],
   "source": [
    "# load ligand sample\n",
    "\n",
    "os.chdir('/mnt/ailon/pdb_test/1109')\n",
    "\n",
    "with open('ligand_can.txt', 'r') as f:\n",
    "    ligandSample = json.load(f)\n"
   ]
  },
  {
   "cell_type": "code",
   "execution_count": 193,
   "metadata": {},
   "outputs": [],
   "source": [
    "sampleP = []\n",
    "\n",
    "for i in ligandSample.keys():\n",
    "    for j in pdb_sample['PDB_code']:\n",
    "        if i == j:\n",
    "            sampleP.append(j)\n",
    "        else:\n",
    "            pass"
   ]
  },
  {
   "cell_type": "code",
   "execution_count": 195,
   "metadata": {},
   "outputs": [
    {
     "data": {
      "text/plain": [
       "['5etp', '5ct1', '4urx', '3bva', '4qsv']"
      ]
     },
     "execution_count": 195,
     "metadata": {},
     "output_type": "execute_result"
    }
   ],
   "source": [
    "sampleP"
   ]
  },
  {
   "cell_type": "code",
   "execution_count": 213,
   "metadata": {},
   "outputs": [
    {
     "name": "stdout",
     "output_type": "stream",
     "text": [
      "4urx\n"
     ]
    }
   ],
   "source": [
    "# Make protein sequence data as a dictionary type \n",
    "import os\n",
    "import PDBParser\n",
    "\n",
    "os.chdir('/mnt/ailon/pdb_test/Library_v201013')\n",
    "\n",
    "pro_dic = {}\n",
    "pro_seqs = []\n",
    "for i in sampleP:\n",
    "    try:\n",
    "        pdbParser = PDBParser.PDBParser()\n",
    "        target = pdbParser.load_pdb(i, '../PDB/')\n",
    "        tprotein = target.getProtein()\n",
    "        tseq = tprotein.extractSequence('A')\n",
    "        pro_seqs.append(tseq)\n",
    "        pro_dic[i] = tseq\n",
    "    except: #for 4urx # look for other ways to process protein with other chains\n",
    "        pdbParser = PDBParser.PDBParser()\n",
    "        target = pdbParser.load_pdb(i, '../PDB/')\n",
    "        tprotein = target.getProtein()\n",
    "        tseq = tprotein.extractSequence('R')\n",
    "        pro_seqs.append(tseq)\n",
    "        pro_dic[i] = tseq\n",
    "        print(i)\n",
    "        "
   ]
  },
  {
   "cell_type": "code",
   "execution_count": 214,
   "metadata": {},
   "outputs": [
    {
     "data": {
      "text/plain": [
       "{'5etp': 'AMTVAYIAIGSNLASPLEQVNAALKALGDIPESHILTVSSFYRTPPLGPQDQPDYLNAAVALETSLAPEELLNHTQRIELQQGRVRKAERWGPRTLDLDIMLFGNEVINTERLTVPHYDMKNRGFMLWPLFEIAPELVFPDGEMLRQILHTRAFDKLNKW',\n",
       " '5ct1': 'TIHEFKKSAKTTLIKIDPALKIKTKKVNTADQCANRCTRNKGLPFTCKAFVFDKARKQCLWFPFNSMSSGVKKEFGHEFDLYENKDYIRNCIIGKGRSYKGTVSITKSGIKCQPWSSMIPHEHSFLPSSYRGKDLQENYCRNPRGEEGGPWCFTSNPEVRYEVCDIPQCSEVE',\n",
       " '4urx': 'HMTEYKLVVVGAGGVGKSALTIQLIQNHFVDEYDPTIEDSYRKQVVIDGETCLLDILDTAGQEEYSAMRDQYMRTGEGFLCVFAINNTKSFEDIHQYREQIKRVKDSDDVPMVLVGNKCDLAARTVESRQAQDLARSYGIPYIETSAKTRQGVEDAFYTLVREIRQH',\n",
       " '3bva': 'PQITLWKRPLVTIKIGGQLKEALLNTGADDTVIEEMSLPGRWKPKMIGGIGGFIKVRQYDQIIIEIAGHKAIGTVLVGPTPVNIIGRNLLTQIGATLNF',\n",
       " '4qsv': 'SMQEEDTFRELRIFLRNVTHRLAIDKRFRVFTKPVDPDEVPDYVTVIKQPMDLSSVISKIDLHKYLTVKDYLRDIDLICSNALEYNPDRDPGDRLIRHRACALRDTAYAIIKEELDEDFEQLCEEIQESR'}"
      ]
     },
     "execution_count": 214,
     "metadata": {},
     "output_type": "execute_result"
    }
   ],
   "source": [
    "pro_dic"
   ]
  },
  {
   "cell_type": "code",
   "execution_count": 215,
   "metadata": {},
   "outputs": [],
   "source": [
    "# save protein with code and sequence as a dictionary type\n",
    "import os \n",
    "import json\n",
    "\n",
    "os.chdir('/mnt/ailon/pdb_test/1109')\n",
    "\n",
    "with open('proteins.txt', 'w') as f:\n",
    "    json.dump(pro_dic, f)"
   ]
  },
  {
   "cell_type": "code",
   "execution_count": 226,
   "metadata": {},
   "outputs": [],
   "source": [
    "os.chdir('/mnt/ailon/pdb_test/1109')\n",
    "\n",
    "with open('proteins.txt', 'r') as f:\n",
    "    proteinSample = json.load(f)"
   ]
  },
  {
   "cell_type": "code",
   "execution_count": 228,
   "metadata": {},
   "outputs": [
    {
     "data": {
      "text/plain": [
       "{'5etp': 'AMTVAYIAIGSNLASPLEQVNAALKALGDIPESHILTVSSFYRTPPLGPQDQPDYLNAAVALETSLAPEELLNHTQRIELQQGRVRKAERWGPRTLDLDIMLFGNEVINTERLTVPHYDMKNRGFMLWPLFEIAPELVFPDGEMLRQILHTRAFDKLNKW',\n",
       " '5ct1': 'TIHEFKKSAKTTLIKIDPALKIKTKKVNTADQCANRCTRNKGLPFTCKAFVFDKARKQCLWFPFNSMSSGVKKEFGHEFDLYENKDYIRNCIIGKGRSYKGTVSITKSGIKCQPWSSMIPHEHSFLPSSYRGKDLQENYCRNPRGEEGGPWCFTSNPEVRYEVCDIPQCSEVE',\n",
       " '4urx': 'HMTEYKLVVVGAGGVGKSALTIQLIQNHFVDEYDPTIEDSYRKQVVIDGETCLLDILDTAGQEEYSAMRDQYMRTGEGFLCVFAINNTKSFEDIHQYREQIKRVKDSDDVPMVLVGNKCDLAARTVESRQAQDLARSYGIPYIETSAKTRQGVEDAFYTLVREIRQH',\n",
       " '3bva': 'PQITLWKRPLVTIKIGGQLKEALLNTGADDTVIEEMSLPGRWKPKMIGGIGGFIKVRQYDQIIIEIAGHKAIGTVLVGPTPVNIIGRNLLTQIGATLNF',\n",
       " '4qsv': 'SMQEEDTFRELRIFLRNVTHRLAIDKRFRVFTKPVDPDEVPDYVTVIKQPMDLSSVISKIDLHKYLTVKDYLRDIDLICSNALEYNPDRDPGDRLIRHRACALRDTAYAIIKEELDEDFEQLCEEIQESR'}"
      ]
     },
     "execution_count": 228,
     "metadata": {},
     "output_type": "execute_result"
    }
   ],
   "source": [
    "proteinSample"
   ]
  },
  {
   "cell_type": "code",
   "execution_count": 218,
   "metadata": {},
   "outputs": [
    {
     "data": {
      "text/plain": [
       "['5etp', '5ct1', '4urx', '3bva', '4qsv']"
      ]
     },
     "execution_count": 218,
     "metadata": {},
     "output_type": "execute_result"
    }
   ],
   "source": [
    "sampleP"
   ]
  },
  {
   "cell_type": "code",
   "execution_count": 219,
   "metadata": {},
   "outputs": [
    {
     "data": {
      "text/plain": [
       "'/mnt/ailon/pdb_test/1109'"
      ]
     },
     "execution_count": 219,
     "metadata": {},
     "output_type": "execute_result"
    }
   ],
   "source": [
    "os.getcwd()"
   ]
  },
  {
   "cell_type": "code",
   "execution_count": 224,
   "metadata": {},
   "outputs": [],
   "source": [
    "## Make Lists for aln, a3m, hhr, npy files  \n",
    "\n",
    "for i in sampleP:\n",
    "    with open ('sampleList.csv', 'a') as f:\n",
    "        f.write(i + '\\n')"
   ]
  },
  {
   "cell_type": "code",
   "execution_count": 231,
   "metadata": {},
   "outputs": [],
   "source": [
    "### Make fasta faile for aln, a3m, hhr, npy files  \n",
    "for i in proteinSample.keys():\n",
    "    with open (i+'.fasta', 'w') as f:\n",
    "        f.write('>'+ i + '\\n' + proteinSample[i])   "
   ]
  },
  {
   "cell_type": "code",
   "execution_count": null,
   "metadata": {},
   "outputs": [],
   "source": [
    "## Work HHblits \n",
    "- fasta_test.sh\n",
    "- sampleList.csv\n",
    "- hhblits.sh\n",
    "- ./bin/hhblits\n",
    "- aln_gen_v2.py"
   ]
  },
  {
   "cell_type": "code",
   "execution_count": null,
   "metadata": {},
   "outputs": [],
   "source": [
    "# Make directory for aln, a3m, hhr, npy files \n",
    "in terminal \n",
    "\n",
    "mkdir aln\n",
    "mkdir a3m\n",
    "mkdir hhr\n",
    "mkdir pconsc4"
   ]
  },
  {
   "cell_type": "code",
   "execution_count": null,
   "metadata": {},
   "outputs": [],
   "source": [
    "# Seperate files \n",
    "\n",
    "in terminal\n",
    "\n",
    "$ mv /mnt/ailon/pdb_test/pdb_sample_work/make_kd_candidate/seq/*.aln /mnt/ailon/pdb_test/pdb_sample_work/make_kd_candidate/aln/\n",
    "\n",
    "$ mv /mnt/ailon/pdb_test/pdb_sample_work/make_kd_candidate/seq/*.a3m /mnt/ailon/pdb_test/pdb_sample_work/make_kd_candidate/a3m/\n",
    "\n",
    "$ mv /mnt/ailon/pdb_test/pdb_sample_work/make_kd_candidate/seq/*.hhr /mnt/ailon/pdb_test/pdb_sample_work/make_kd_candidate/hhr/"
   ]
  },
  {
   "cell_type": "code",
   "execution_count": 241,
   "metadata": {},
   "outputs": [],
   "source": [
    "## Make affinity file\n",
    "\n",
    "sampleAffinity = [] \n",
    "for i in sampleP:\n",
    "    for j in range(len(pdb_sample)):\n",
    "        if i == pdb_sample['PDB_code'][j]:\n",
    "            sampleAffinity.append(pdb_sample['affinity_nM'][j])\n",
    "        else:\n",
    "            pass"
   ]
  },
  {
   "cell_type": "code",
   "execution_count": 242,
   "metadata": {},
   "outputs": [
    {
     "data": {
      "text/plain": [
       "[6.154901959985742,\n",
       " 13.51999305704285,\n",
       " 2.886056647693163,\n",
       " 6.522878745280337,\n",
       " 2.0]"
      ]
     },
     "execution_count": 242,
     "metadata": {},
     "output_type": "execute_result"
    }
   ],
   "source": [
    "sampleAffinity"
   ]
  },
  {
   "cell_type": "code",
   "execution_count": 244,
   "metadata": {},
   "outputs": [
    {
     "data": {
      "text/plain": [
       "(5, 5)"
      ]
     },
     "execution_count": 244,
     "metadata": {},
     "output_type": "execute_result"
    }
   ],
   "source": [
    "## Sample affinity Matrix \n",
    "\n",
    "# make matrix array shape \n",
    "\n",
    "import numpy as np\n",
    "\n",
    "matrix_5 = [[0 for x in range(5)] for x in range(5)]\n",
    "matrix_array = np.array(matrix_5, dtype=np.float64)\n",
    "matrix_array.shape"
   ]
  },
  {
   "cell_type": "code",
   "execution_count": 246,
   "metadata": {},
   "outputs": [],
   "source": [
    "# Take affinity value in matrix array\n",
    "for i in range(len(sampleAffinity)):\n",
    "    matrix_array[i][i] = sampleAffinity[i]"
   ]
  },
  {
   "cell_type": "code",
   "execution_count": 247,
   "metadata": {},
   "outputs": [
    {
     "data": {
      "text/plain": [
       "array([[ 6.15490196,  0.        ,  0.        ,  0.        ,  0.        ],\n",
       "       [ 0.        , 13.51999306,  0.        ,  0.        ,  0.        ],\n",
       "       [ 0.        ,  0.        ,  2.88605665,  0.        ,  0.        ],\n",
       "       [ 0.        ,  0.        ,  0.        ,  6.52287875,  0.        ],\n",
       "       [ 0.        ,  0.        ,  0.        ,  0.        ,  2.        ]])"
      ]
     },
     "execution_count": 247,
     "metadata": {},
     "output_type": "execute_result"
    }
   ],
   "source": [
    "matrix_array"
   ]
  },
  {
   "cell_type": "code",
   "execution_count": 248,
   "metadata": {},
   "outputs": [
    {
     "data": {
      "text/plain": [
       "'/mnt/ailon/pdb_test/1109'"
      ]
     },
     "execution_count": 248,
     "metadata": {},
     "output_type": "execute_result"
    }
   ],
   "source": [
    "# Check the saved path\n",
    "os.getcwd()"
   ]
  },
  {
   "cell_type": "code",
   "execution_count": 249,
   "metadata": {},
   "outputs": [
    {
     "data": {
      "text/plain": [
       "'/mnt/ailon/pdb_test/1109'"
      ]
     },
     "execution_count": 249,
     "metadata": {},
     "output_type": "execute_result"
    }
   ],
   "source": [
    "# save affinity data \n",
    "import pickle\n",
    "with open('Y.txt', 'wb') as f:\n",
    "    pickle.dump(matrix_array, f)\n",
    "    \n",
    "# Check the saved path\n",
    "os.getcwd()"
   ]
  },
  {
   "cell_type": "code",
   "execution_count": 252,
   "metadata": {},
   "outputs": [],
   "source": [
    "# load affinity data \n",
    "with open('Y.txt','rb') as f:\n",
    "    data = pickle.load(f)"
   ]
  },
  {
   "cell_type": "code",
   "execution_count": 253,
   "metadata": {},
   "outputs": [
    {
     "data": {
      "text/plain": [
       "array([[ 6.15490196,  0.        ,  0.        ,  0.        ,  0.        ],\n",
       "       [ 0.        , 13.51999306,  0.        ,  0.        ,  0.        ],\n",
       "       [ 0.        ,  0.        ,  2.88605665,  0.        ,  0.        ],\n",
       "       [ 0.        ,  0.        ,  0.        ,  6.52287875,  0.        ],\n",
       "       [ 0.        ,  0.        ,  0.        ,  0.        ,  2.        ]])"
      ]
     },
     "execution_count": 253,
     "metadata": {},
     "output_type": "execute_result"
    }
   ],
   "source": [
    "data"
   ]
  },
  {
   "cell_type": "code",
   "execution_count": 8,
   "metadata": {},
   "outputs": [
    {
     "data": {
      "text/plain": [
       "['5etp', '5ct1', '4urx', '3bva', '4qsv']"
      ]
     },
     "execution_count": 8,
     "metadata": {},
     "output_type": "execute_result"
    }
   ],
   "source": [
    "import json\n",
    "\n",
    "with open('/mnt/ailon/pdb_test/1109/data/data_pdb/proteins.txt', 'r') as f:\n",
    "    proteinSample = json.load(f)\n",
    "    \n",
    "tmp = [] \n",
    "for i in proteinSample.keys():\n",
    "    tmp.append(i)\n",
    "    \n",
    "tmp"
   ]
  },
  {
   "cell_type": "code",
   "execution_count": 6,
   "metadata": {},
   "outputs": [],
   "source": [
    "os.chdir('/mnt/ailon/pdb_test/Library_v201013')\n",
    "\n",
    "import numpy as np\n",
    "import timeit\n",
    "import PDBParser\n",
    "\n",
    "pdbParser = PDBParser.PDBParser()\n",
    "\n",
    "for i in tmp:\n",
    "    comp = pdbParser.load_pdb(i, '../1109/data/data_pdb')\n",
    "# comp = pdbParser.load_pdb('4MOM')\n",
    "# comp1 = pdbParser.load_pdb('1GM5-ADP-A-1756')\n",
    "# comp2 = pdbParser.load_pdb('1NMD-ATP-A-401')\n",
    "\n",
    "# ligandList1 = comp1.getLigandList()\n",
    "# ligandList2 = comp2.getLigandList()\n",
    "    protein = comp.getProtein()\n",
    "# ligands = comp.getLigandList()\n",
    "# elements = comp.getElementList()\n",
    "\n",
    "# distmap = comp.getDistancemap(drawflag=True)\n",
    "    contmap = protein.getContactmap(drawflag=False)\n",
    "    np.save('/mnt/ailon/pdb_test/1109/data/data_pdb/pconsc4/' + i +'.npy', np.array(contmap))"
   ]
  },
  {
   "cell_type": "code",
   "execution_count": null,
   "metadata": {},
   "outputs": [],
   "source": []
  }
 ],
 "metadata": {
  "kernelspec": {
   "display_name": "Python 3",
   "language": "python",
   "name": "python3"
  },
  "language_info": {
   "codemirror_mode": {
    "name": "ipython",
    "version": 3
   },
   "file_extension": ".py",
   "mimetype": "text/x-python",
   "name": "python",
   "nbconvert_exporter": "python",
   "pygments_lexer": "ipython3",
   "version": "3.8.3"
  }
 },
 "nbformat": 4,
 "nbformat_minor": 4
}
